{
 "cells": [
  {
   "cell_type": "code",
   "execution_count": 1,
   "id": "31aee49d",
   "metadata": {},
   "outputs": [],
   "source": [
    "import numpy as np\n",
    "import pandas as pd\n",
    "import matplotlib.pyplot as plt\n",
    "import seaborn as sns\n",
    "%matplotlib inline"
   ]
  },
  {
   "cell_type": "code",
   "execution_count": 26,
   "id": "82a3442b",
   "metadata": {},
   "outputs": [],
   "source": [
    "df=pd.read_csv(\"heart.csv\")"
   ]
  },
  {
   "cell_type": "code",
   "execution_count": 27,
   "id": "9b3f8a73",
   "metadata": {},
   "outputs": [
    {
     "data": {
      "text/html": [
       "<div>\n",
       "<style scoped>\n",
       "    .dataframe tbody tr th:only-of-type {\n",
       "        vertical-align: middle;\n",
       "    }\n",
       "\n",
       "    .dataframe tbody tr th {\n",
       "        vertical-align: top;\n",
       "    }\n",
       "\n",
       "    .dataframe thead th {\n",
       "        text-align: right;\n",
       "    }\n",
       "</style>\n",
       "<table border=\"1\" class=\"dataframe\">\n",
       "  <thead>\n",
       "    <tr style=\"text-align: right;\">\n",
       "      <th></th>\n",
       "      <th>age</th>\n",
       "      <th>sex</th>\n",
       "      <th>cp</th>\n",
       "      <th>trestbps</th>\n",
       "      <th>chol</th>\n",
       "      <th>fbs</th>\n",
       "      <th>restecg</th>\n",
       "      <th>thalach</th>\n",
       "      <th>exang</th>\n",
       "      <th>oldpeak</th>\n",
       "      <th>slope</th>\n",
       "      <th>ca</th>\n",
       "      <th>thal</th>\n",
       "      <th>target</th>\n",
       "    </tr>\n",
       "  </thead>\n",
       "  <tbody>\n",
       "    <tr>\n",
       "      <th>0</th>\n",
       "      <td>52</td>\n",
       "      <td>1</td>\n",
       "      <td>0</td>\n",
       "      <td>125</td>\n",
       "      <td>212</td>\n",
       "      <td>0</td>\n",
       "      <td>1</td>\n",
       "      <td>168</td>\n",
       "      <td>0</td>\n",
       "      <td>1.0</td>\n",
       "      <td>2</td>\n",
       "      <td>2</td>\n",
       "      <td>3</td>\n",
       "      <td>0</td>\n",
       "    </tr>\n",
       "    <tr>\n",
       "      <th>1</th>\n",
       "      <td>53</td>\n",
       "      <td>1</td>\n",
       "      <td>0</td>\n",
       "      <td>140</td>\n",
       "      <td>203</td>\n",
       "      <td>1</td>\n",
       "      <td>0</td>\n",
       "      <td>155</td>\n",
       "      <td>1</td>\n",
       "      <td>3.1</td>\n",
       "      <td>0</td>\n",
       "      <td>0</td>\n",
       "      <td>3</td>\n",
       "      <td>0</td>\n",
       "    </tr>\n",
       "    <tr>\n",
       "      <th>2</th>\n",
       "      <td>70</td>\n",
       "      <td>1</td>\n",
       "      <td>0</td>\n",
       "      <td>145</td>\n",
       "      <td>174</td>\n",
       "      <td>0</td>\n",
       "      <td>1</td>\n",
       "      <td>125</td>\n",
       "      <td>1</td>\n",
       "      <td>2.6</td>\n",
       "      <td>0</td>\n",
       "      <td>0</td>\n",
       "      <td>3</td>\n",
       "      <td>0</td>\n",
       "    </tr>\n",
       "    <tr>\n",
       "      <th>3</th>\n",
       "      <td>61</td>\n",
       "      <td>1</td>\n",
       "      <td>0</td>\n",
       "      <td>148</td>\n",
       "      <td>203</td>\n",
       "      <td>0</td>\n",
       "      <td>1</td>\n",
       "      <td>161</td>\n",
       "      <td>0</td>\n",
       "      <td>0.0</td>\n",
       "      <td>2</td>\n",
       "      <td>1</td>\n",
       "      <td>3</td>\n",
       "      <td>0</td>\n",
       "    </tr>\n",
       "    <tr>\n",
       "      <th>4</th>\n",
       "      <td>62</td>\n",
       "      <td>0</td>\n",
       "      <td>0</td>\n",
       "      <td>138</td>\n",
       "      <td>294</td>\n",
       "      <td>1</td>\n",
       "      <td>1</td>\n",
       "      <td>106</td>\n",
       "      <td>0</td>\n",
       "      <td>1.9</td>\n",
       "      <td>1</td>\n",
       "      <td>3</td>\n",
       "      <td>2</td>\n",
       "      <td>0</td>\n",
       "    </tr>\n",
       "  </tbody>\n",
       "</table>\n",
       "</div>"
      ],
      "text/plain": [
       "   age  sex  cp  trestbps  chol  fbs  restecg  thalach  exang  oldpeak  slope  \\\n",
       "0   52    1   0       125   212    0        1      168      0      1.0      2   \n",
       "1   53    1   0       140   203    1        0      155      1      3.1      0   \n",
       "2   70    1   0       145   174    0        1      125      1      2.6      0   \n",
       "3   61    1   0       148   203    0        1      161      0      0.0      2   \n",
       "4   62    0   0       138   294    1        1      106      0      1.9      1   \n",
       "\n",
       "   ca  thal  target  \n",
       "0   2     3       0  \n",
       "1   0     3       0  \n",
       "2   0     3       0  \n",
       "3   1     3       0  \n",
       "4   3     2       0  "
      ]
     },
     "execution_count": 27,
     "metadata": {},
     "output_type": "execute_result"
    }
   ],
   "source": [
    "df.head()"
   ]
  },
  {
   "cell_type": "code",
   "execution_count": 28,
   "id": "6205d178",
   "metadata": {},
   "outputs": [
    {
     "data": {
      "text/plain": [
       "age         0\n",
       "sex         0\n",
       "cp          0\n",
       "trestbps    0\n",
       "chol        0\n",
       "fbs         0\n",
       "restecg     0\n",
       "thalach     0\n",
       "exang       0\n",
       "oldpeak     0\n",
       "slope       0\n",
       "ca          0\n",
       "thal        0\n",
       "target      0\n",
       "dtype: int64"
      ]
     },
     "execution_count": 28,
     "metadata": {},
     "output_type": "execute_result"
    }
   ],
   "source": [
    "df.isnull().sum()"
   ]
  },
  {
   "cell_type": "code",
   "execution_count": 32,
   "id": "ac0ddd40",
   "metadata": {},
   "outputs": [],
   "source": [
    "x=df.drop(columns='target')\n",
    "y=df['target']"
   ]
  },
  {
   "cell_type": "code",
   "execution_count": 35,
   "id": "31ca8655",
   "metadata": {},
   "outputs": [],
   "source": [
    "from sklearn.model_selection import train_test_split\n",
    "x_train,x_test,y_train,y_test=train_test_split(x,y,test_size=0.3,random_state=0)"
   ]
  },
  {
   "cell_type": "code",
   "execution_count": 29,
   "id": "9e4d4d68",
   "metadata": {},
   "outputs": [],
   "source": [
    "from sklearn.metrics import accuracy_score\n",
    "from sklearn.metrics import confusion_matrix\n",
    "from sklearn.metrics import classification_report\n",
    "from sklearn.preprocessing import binarize"
   ]
  },
  {
   "cell_type": "code",
   "execution_count": 117,
   "id": "3b9c4d0b",
   "metadata": {},
   "outputs": [],
   "source": [
    "from sklearn.linear_model import LogisticRegression\n",
    "from sklearn.naive_bayes import GaussianNB  \n",
    "from sklearn.neighbors import KNeighborsClassifier\n",
    "from sklearn.tree   import DecisionTreeClassifier\n",
    "from sklearn.ensemble import RandomForestClassifier\n",
    "from sklearn.svm import SVC\n"
   ]
  },
  {
   "cell_type": "code",
   "execution_count": 37,
   "id": "9f3e4a53",
   "metadata": {},
   "outputs": [],
   "source": [
    "lr=LogisticRegression(max_iter=1000)\n",
    "lr.fit(x_train,y_train)\n",
    "lr_y_predict=lr.predict(x_test)"
   ]
  },
  {
   "cell_type": "code",
   "execution_count": null,
   "id": "6ed915f1",
   "metadata": {},
   "outputs": [],
   "source": []
  },
  {
   "cell_type": "code",
   "execution_count": 38,
   "id": "29742166",
   "metadata": {
    "scrolled": true
   },
   "outputs": [
    {
     "name": "stdout",
     "output_type": "stream",
     "text": [
      "The accuarcy is 0.8668831168831169\n"
     ]
    }
   ],
   "source": [
    "print(\"The accuarcy is {}\".format(accuracy_score(y_test,lr_y_predict)))"
   ]
  },
  {
   "cell_type": "code",
   "execution_count": 62,
   "id": "d7a53eb7",
   "metadata": {
    "scrolled": true
   },
   "outputs": [
    {
     "data": {
      "text/plain": [
       "<AxesSubplot:>"
      ]
     },
     "execution_count": 62,
     "metadata": {},
     "output_type": "execute_result"
    },
    {
     "data": {
      "image/png": "[encoded data removed]",
      "text/plain": [
       "<Figure size 432x288 with 2 Axes>"
      ]
     },
     "metadata": {
      "needs_background": "light"
     },
     "output_type": "display_data"
    }
   ],
   "source": [
    "lr_cm=confusion_matrix(y_test,lr_y_predict)\n",
    "lr_cmd=pd.DataFrame(lr_cm,index=['Actual :0','Actual :1'],columns=['Predicted :0','Predicted :1'])\n",
    "sns.heatmap(lr_cmd,annot=True ,fmt='d')"
   ]
  },
  {
   "cell_type": "code",
   "execution_count": 61,
   "id": "9852f6ce",
   "metadata": {},
   "outputs": [
    {
     "name": "stdout",
     "output_type": "stream",
     "text": [
      "              precision    recall  f1-score   support\n",
      "\n",
      "           0       0.90      0.81      0.85       145\n",
      "           1       0.84      0.92      0.88       163\n",
      "\n",
      "    accuracy                           0.87       308\n",
      "   macro avg       0.87      0.86      0.87       308\n",
      "weighted avg       0.87      0.87      0.87       308\n",
      "\n"
     ]
    }
   ],
   "source": [
    "print(classification_report(y_test,lr_y_predict))"
   ]
  },
  {
   "cell_type": "code",
   "execution_count": 39,
   "id": "18f2ce81",
   "metadata": {},
   "outputs": [],
   "source": [
    "nb=GaussianNB()\n",
    "nb.fit(x_train,y_train)\n",
    "nb_y_predict=nb.predict(x_test)"
   ]
  },
  {
   "cell_type": "code",
   "execution_count": 40,
   "id": "7f36a29a",
   "metadata": {
    "scrolled": true
   },
   "outputs": [
    {
     "name": "stdout",
     "output_type": "stream",
     "text": [
      "The accuarcy is 0.8441558441558441\n"
     ]
    }
   ],
   "source": [
    "print(\"The accuarcy is {}\".format(accuracy_score(y_test,nb_y_predict)))"
   ]
  },
  {
   "cell_type": "code",
   "execution_count": 130,
   "id": "9bbcb81e",
   "metadata": {},
   "outputs": [],
   "source": [
    "knn=KNeighborsClassifier(n_neighbors=1)\n",
    "knn.fit(x_train,y_train)\n",
    "knn_y_predict=knn.predict(x_test)"
   ]
  },
  {
   "cell_type": "code",
   "execution_count": 131,
   "id": "8befed89",
   "metadata": {},
   "outputs": [
    {
     "name": "stdout",
     "output_type": "stream",
     "text": [
      "The accuarcy is 0.9902597402597403\n"
     ]
    }
   ],
   "source": [
    "print(\"The accuarcy is {}\".format(accuracy_score(y_test,knn_y_predict)))"
   ]
  },
  {
   "cell_type": "code",
   "execution_count": 129,
   "id": "41808e79",
   "metadata": {},
   "outputs": [
    {
     "name": "stdout",
     "output_type": "stream",
     "text": [
      "[0.9902597402597403, 0.9253246753246753, 0.8863636363636364, 0.8084415584415584, 0.7435064935064936, 0.7402597402597403, 0.7467532467532467, 0.737012987012987, 0.7597402597402597]\n"
     ]
    },
    {
     "data": {
      "text/plain": [
       "(0.5, 1.0)"
      ]
     },
     "execution_count": 129,
     "metadata": {},
     "output_type": "execute_result"
    },
    {
     "data": {
      "image/png": "[encoded data removed]",
      "text/plain": [
       "<Figure size 432x288 with 1 Axes>"
      ]
     },
     "metadata": {
      "needs_background": "light"
     },
     "output_type": "display_data"
    }
   ],
   "source": [
    "acc= []\n",
    "for i in range(1,10):\n",
    "    knn2=KNeighborsClassifier(n_neighbors=i)\n",
    "    knn2.fit(x_train,y_train)\n",
    "    knn_y_predict2=knn2.predict(x_test)\n",
    "    acc.append(accuracy_score(y_test,knn_y_predict2))\n",
    "print(acc)\n",
    "plt.plot(range(1,10),acc)\n",
    "plt.xlim([1,10])\n",
    "plt.ylim([0.5,1])"
   ]
  },
  {
   "cell_type": "code",
   "execution_count": 43,
   "id": "d531d833",
   "metadata": {},
   "outputs": [],
   "source": [
    "dct=DecisionTreeClassifier()\n",
    "dct.fit(x_train,y_train)\n",
    "dct_y_predict=dct.predict(x_test)"
   ]
  },
  {
   "cell_type": "code",
   "execution_count": 44,
   "id": "740b514f",
   "metadata": {},
   "outputs": [
    {
     "name": "stdout",
     "output_type": "stream",
     "text": [
      "The accuarcy is 1.0\n"
     ]
    }
   ],
   "source": [
    "print(\"The accuarcy is {}\".format(accuracy_score(y_test,dct_y_predict)))"
   ]
  },
  {
   "cell_type": "code",
   "execution_count": 46,
   "id": "4e6f14a3",
   "metadata": {},
   "outputs": [],
   "source": [
    "rn_fr=RandomForestClassifier()\n",
    "rn_fr.fit(x_train,y_train)\n",
    "rn_fr_y_predict=rn_fr.predict(x_test)"
   ]
  },
  {
   "cell_type": "code",
   "execution_count": 124,
   "id": "0375bc99",
   "metadata": {},
   "outputs": [
    {
     "name": "stdout",
     "output_type": "stream",
     "text": [
      "The accuarcy is 1.0\n"
     ]
    }
   ],
   "source": [
    "print(\"The accuarcy is {}\".format(accuracy_score(y_test,rn_fr_y_predict)))"
   ]
  },
  {
   "cell_type": "code",
   "execution_count": 148,
   "id": "685169eb",
   "metadata": {},
   "outputs": [],
   "source": [
    "svm=SVC(kernel='linear')\n",
    "svm.fit(x_train,y_train)\n",
    "svm_y_predict=svm.predict(x_test)"
   ]
  },
  {
   "cell_type": "code",
   "execution_count": 149,
   "id": "c6137e09",
   "metadata": {},
   "outputs": [
    {
     "name": "stdout",
     "output_type": "stream",
     "text": [
      "The accuarcy is 0.8538961038961039\n"
     ]
    }
   ],
   "source": [
    "print(\"The accuarcy is {}\".format(accuracy_score(y_test,svm_y_predict)))"
   ]
  },
  {
   "cell_type": "code",
   "execution_count": 150,
   "id": "c891463b",
   "metadata": {},
   "outputs": [
    {
     "data": {
      "text/plain": [
       "<AxesSubplot:title={'center':'SVM Confusion Matrix'}>"
      ]
     },
     "execution_count": 150,
     "metadata": {},
     "output_type": "execute_result"
    },
    {
     "data": {
      "image/png": "[encoded data removed]",
      "text/plain": [
       "<Figure size 864x504 with 10 Axes>"
      ]
     },
     "metadata": {
      "needs_background": "light"
     },
     "output_type": "display_data"
    }
   ],
   "source": [
    "plt.figure(figsize=(12,7))\n",
    "\n",
    "lr_cm=confusion_matrix(y_test,lr_y_predict)\n",
    "lr_cmd=pd.DataFrame(lr_cm,index=['Actual :0','Actual :1'],columns=['Predicted :0','Predicted :1'])\n",
    "plt.subplot(3,2,1)\n",
    "plt.title(\"Logistic Regression Confusion Matrix\")\n",
    "sns.heatmap(lr_cmd,annot=True ,fmt='d')\n",
    "\n",
    "knn_cm=confusion_matrix(y_test,knn_y_predict)\n",
    "knn_cmd=pd.DataFrame(knn_cm,index=['Actual :0','Actual :1'],columns=['Predicted :0','Predicted :1'])\n",
    "plt.subplot(3,2,2)\n",
    "plt.title(\"KNN Confusion Matrix\")\n",
    "sns.heatmap(knn_cmd,annot=True ,fmt='d')\n",
    "\n",
    "nb_cm=confusion_matrix(y_test,nb_y_predict)\n",
    "nb_cmd=pd.DataFrame(nb_cm,index=['Actual :0','Actual :1'],columns=['Predicted :0','Predicted :1'])\n",
    "plt.subplot(3,2,3)\n",
    "plt.title(\"Naive Bayes Confusion Matrix\")\n",
    "sns.heatmap(nb_cmd,annot=True ,fmt='d')\n",
    "\n",
    "dct_cm=confusion_matrix(y_test,dct_y_predict)\n",
    "dct_cmd=pd.DataFrame(lr_cm,index=['Actual :0','Actual :1'],columns=['Predicted :0','Predicted :1'])\n",
    "plt.subplot(3,2,4)\n",
    "plt.title(\"Decision Tree Confusion Matrix\")\n",
    "sns.heatmap(dct_cmd,annot=True ,fmt='d')\n",
    "\n",
    "svm_cm=confusion_matrix(y_test,svm_y_predict)\n",
    "svm_cmd=pd.DataFrame(svm_cm,index=['Actual :0','Actual :1'],columns=['Predicted :0','Predicted :1'])\n",
    "plt.subplot(3,2,5)\n",
    "plt.title(\"SVM Confusion Matrix\")\n",
    "sns.heatmap(svm_cmd,annot=True ,fmt='d')\n"
   ]
  },
  {
   "cell_type": "code",
   "execution_count": 59,
   "id": "e1b1b2d4",
   "metadata": {},
   "outputs": [],
   "source": [
    "from sklearn.metrics import roc_curve,classification_report"
   ]
  },
  {
   "cell_type": "code",
   "execution_count": 63,
   "id": "a4a9f8d9",
   "metadata": {},
   "outputs": [],
   "source": [
    "lr_y_pre_prob=lr.predict_proba(x_test)"
   ]
  },
  {
   "cell_type": "code",
   "execution_count": 70,
   "id": "3ea7bb8e",
   "metadata": {},
   "outputs": [
    {
     "data": {
      "text/plain": [
       "array([[0.11937432, 0.88062568],\n",
       "       [0.23750318, 0.76249682],\n",
       "       [0.9951405 , 0.0048595 ],\n",
       "       [0.09088562, 0.90911438],\n",
       "       [0.98840003, 0.01159997],\n",
       "       [0.97833386, 0.02166614],\n",
       "       [0.8446606 , 0.1553394 ],\n",
       "       [0.99051328, 0.00948672],\n",
       "       [0.95454193, 0.04545807],\n",
       "       [0.31984591, 0.68015409],\n",
       "       [0.5472025 , 0.4527975 ],\n",
       "       [0.99896697, 0.00103303],\n",
       "       [0.37547948, 0.62452052],\n",
       "       [0.44128448, 0.55871552],\n",
       "       [0.08998932, 0.91001068],\n",
       "       [0.02508094, 0.97491906],\n",
       "       [0.0268655 , 0.9731345 ],\n",
       "       [0.99220953, 0.00779047],\n",
       "       [0.00836098, 0.99163902],\n",
       "       [0.79839313, 0.20160687],\n",
       "       [0.07817717, 0.92182283],\n",
       "       [0.12047307, 0.87952693],\n",
       "       [0.24231341, 0.75768659],\n",
       "       [0.12047307, 0.87952693],\n",
       "       [0.02508094, 0.97491906],\n",
       "       [0.04146962, 0.95853038],\n",
       "       [0.01727038, 0.98272962],\n",
       "       [0.22968854, 0.77031146],\n",
       "       [0.01353693, 0.98646307],\n",
       "       [0.00695474, 0.99304526],\n",
       "       [0.01061261, 0.98938739],\n",
       "       [0.99051328, 0.00948672],\n",
       "       [0.96629538, 0.03370462],\n",
       "       [0.21412605, 0.78587395],\n",
       "       [0.84877611, 0.15122389],\n",
       "       [0.99610059, 0.00389941],\n",
       "       [0.47751044, 0.52248956],\n",
       "       [0.69447865, 0.30552135],\n",
       "       [0.27540521, 0.72459479],\n",
       "       [0.19240607, 0.80759393],\n",
       "       [0.05305512, 0.94694488],\n",
       "       [0.1738303 , 0.8261697 ],\n",
       "       [0.06626009, 0.93373991],\n",
       "       [0.03911748, 0.96088252],\n",
       "       [0.04377018, 0.95622982],\n",
       "       [0.02757515, 0.97242485],\n",
       "       [0.05085779, 0.94914221],\n",
       "       [0.24226931, 0.75773069],\n",
       "       [0.99452552, 0.00547448],\n",
       "       [0.29689684, 0.70310316],\n",
       "       [0.70911663, 0.29088337],\n",
       "       [0.96043587, 0.03956413],\n",
       "       [0.54926325, 0.45073675],\n",
       "       [0.38965454, 0.61034546],\n",
       "       [0.99257219, 0.00742781],\n",
       "       [0.89556878, 0.10443122],\n",
       "       [0.99144646, 0.00855354],\n",
       "       [0.2518613 , 0.7481387 ],\n",
       "       [0.99732945, 0.00267055],\n",
       "       [0.23750318, 0.76249682],\n",
       "       [0.66360488, 0.33639512],\n",
       "       [0.46416406, 0.53583594],\n",
       "       [0.03649948, 0.96350052],\n",
       "       [0.3623191 , 0.6376809 ],\n",
       "       [0.63838115, 0.36161885],\n",
       "       [0.97009734, 0.02990266],\n",
       "       [0.98071675, 0.01928325],\n",
       "       [0.05085779, 0.94914221],\n",
       "       [0.03738635, 0.96261365],\n",
       "       [0.02030433, 0.97969567],\n",
       "       [0.40379773, 0.59620227],\n",
       "       [0.0335069 , 0.9664931 ],\n",
       "       [0.09178933, 0.90821067],\n",
       "       [0.99689005, 0.00310995],\n",
       "       [0.95369942, 0.04630058],\n",
       "       [0.99732945, 0.00267055],\n",
       "       [0.24552765, 0.75447235],\n",
       "       [0.84922323, 0.15077677],\n",
       "       [0.66252981, 0.33747019],\n",
       "       [0.91689131, 0.08310869],\n",
       "       [0.79459605, 0.20540395],\n",
       "       [0.558919  , 0.441081  ],\n",
       "       [0.43991463, 0.56008537],\n",
       "       [0.08432911, 0.91567089],\n",
       "       [0.30779777, 0.69220223],\n",
       "       [0.9681471 , 0.0318529 ],\n",
       "       [0.05147577, 0.94852423],\n",
       "       [0.94760858, 0.05239142],\n",
       "       [0.01353693, 0.98646307],\n",
       "       [0.98840003, 0.01159997],\n",
       "       [0.99220953, 0.00779047],\n",
       "       [0.98126572, 0.01873428],\n",
       "       [0.00960081, 0.99039919],\n",
       "       [0.56607723, 0.43392277],\n",
       "       [0.25518298, 0.74481702],\n",
       "       [0.79459605, 0.20540395],\n",
       "       [0.3623191 , 0.6376809 ],\n",
       "       [0.99277904, 0.00722096],\n",
       "       [0.03063418, 0.96936582],\n",
       "       [0.05779074, 0.94220926],\n",
       "       [0.31408144, 0.68591856],\n",
       "       [0.17748481, 0.82251519],\n",
       "       [0.01061261, 0.98938739],\n",
       "       [0.89698917, 0.10301083],\n",
       "       [0.56340345, 0.43659655],\n",
       "       [0.35246121, 0.64753879],\n",
       "       [0.99166363, 0.00833637],\n",
       "       [0.1078782 , 0.8921218 ],\n",
       "       [0.85834365, 0.14165635],\n",
       "       [0.36869757, 0.63130243],\n",
       "       [0.16088872, 0.83911128],\n",
       "       [0.4202334 , 0.5797666 ],\n",
       "       [0.92978032, 0.07021968],\n",
       "       [0.89698917, 0.10301083],\n",
       "       [0.4555463 , 0.5444537 ],\n",
       "       [0.97833386, 0.02166614],\n",
       "       [0.03738635, 0.96261365],\n",
       "       [0.96629538, 0.03370462],\n",
       "       [0.98257542, 0.01742458],\n",
       "       [0.17748481, 0.82251519],\n",
       "       [0.26876309, 0.73123691],\n",
       "       [0.27540521, 0.72459479],\n",
       "       [0.05779074, 0.94220926],\n",
       "       [0.99590604, 0.00409396],\n",
       "       [0.34939133, 0.65060867],\n",
       "       [0.18621344, 0.81378656],\n",
       "       [0.00315562, 0.99684438],\n",
       "       [0.23992641, 0.76007359],\n",
       "       [0.00693274, 0.99306726],\n",
       "       [0.96629538, 0.03370462],\n",
       "       [0.99433872, 0.00566128],\n",
       "       [0.94111298, 0.05888702],\n",
       "       [0.19240607, 0.80759393],\n",
       "       [0.14707511, 0.85292489],\n",
       "       [0.2122445 , 0.7877555 ],\n",
       "       [0.96761182, 0.03238818],\n",
       "       [0.97885187, 0.02114813],\n",
       "       [0.05519381, 0.94480619],\n",
       "       [0.99689005, 0.00310995],\n",
       "       [0.15563215, 0.84436785],\n",
       "       [0.91643539, 0.08356461],\n",
       "       [0.89737304, 0.10262696],\n",
       "       [0.50605782, 0.49394218],\n",
       "       [0.84165609, 0.15834391],\n",
       "       [0.47751044, 0.52248956],\n",
       "       [0.19668435, 0.80331565],\n",
       "       [0.21995521, 0.78004479],\n",
       "       [0.88729366, 0.11270634],\n",
       "       [0.33644395, 0.66355605],\n",
       "       [0.70911663, 0.29088337],\n",
       "       [0.23992641, 0.76007359],\n",
       "       [0.30517738, 0.69482262],\n",
       "       [0.18060356, 0.81939644],\n",
       "       [0.99732945, 0.00267055],\n",
       "       [0.97929699, 0.02070301],\n",
       "       [0.98869909, 0.01130091],\n",
       "       [0.09804694, 0.90195306],\n",
       "       [0.44564552, 0.55435448],\n",
       "       [0.86399597, 0.13600403],\n",
       "       [0.99257219, 0.00742781],\n",
       "       [0.99732945, 0.00267055],\n",
       "       [0.04764188, 0.95235812],\n",
       "       [0.15563215, 0.84436785],\n",
       "       [0.7409589 , 0.2590411 ],\n",
       "       [0.23532396, 0.76467604],\n",
       "       [0.44031788, 0.55968212],\n",
       "       [0.01727038, 0.98272962],\n",
       "       [0.05245646, 0.94754354],\n",
       "       [0.00695474, 0.99304526],\n",
       "       [0.04638909, 0.95361091],\n",
       "       [0.06738962, 0.93261038],\n",
       "       [0.32131041, 0.67868959],\n",
       "       [0.05147577, 0.94852423],\n",
       "       [0.30517738, 0.69482262],\n",
       "       [0.10782419, 0.89217581],\n",
       "       [0.03063418, 0.96936582],\n",
       "       [0.69509933, 0.30490067],\n",
       "       [0.1086386 , 0.8913614 ],\n",
       "       [0.00593797, 0.99406203],\n",
       "       [0.99220953, 0.00779047],\n",
       "       [0.99554898, 0.00445102],\n",
       "       [0.62549445, 0.37450555],\n",
       "       [0.97779169, 0.02220831],\n",
       "       [0.97929699, 0.02070301],\n",
       "       [0.24561149, 0.75438851],\n",
       "       [0.95040459, 0.04959541],\n",
       "       [0.44781898, 0.55218102],\n",
       "       [0.97833386, 0.02166614],\n",
       "       [0.44031788, 0.55968212],\n",
       "       [0.98162482, 0.01837518],\n",
       "       [0.85883565, 0.14116435],\n",
       "       [0.05147577, 0.94852423],\n",
       "       [0.29689684, 0.70310316],\n",
       "       [0.23064878, 0.76935122],\n",
       "       [0.97885187, 0.02114813],\n",
       "       [0.32692825, 0.67307175],\n",
       "       [0.44781898, 0.55218102],\n",
       "       [0.04383754, 0.95616246],\n",
       "       [0.44128448, 0.55871552],\n",
       "       [0.90453104, 0.09546896],\n",
       "       [0.01185155, 0.98814845],\n",
       "       [0.21471367, 0.78528633],\n",
       "       [0.01185155, 0.98814845],\n",
       "       [0.88376332, 0.11623668],\n",
       "       [0.22096434, 0.77903566],\n",
       "       [0.19508457, 0.80491543],\n",
       "       [0.10782419, 0.89217581],\n",
       "       [0.37721837, 0.62278163],\n",
       "       [0.27789985, 0.72210015],\n",
       "       [0.99452552, 0.00547448],\n",
       "       [0.02077093, 0.97922907],\n",
       "       [0.17962275, 0.82037725],\n",
       "       [0.1272433 , 0.8727567 ],\n",
       "       [0.11776194, 0.88223806],\n",
       "       [0.97009734, 0.02990266],\n",
       "       [0.96043587, 0.03956413],\n",
       "       [0.36217416, 0.63782584],\n",
       "       [0.99896697, 0.00103303],\n",
       "       [0.43282815, 0.56717185],\n",
       "       [0.40379773, 0.59620227],\n",
       "       [0.97100291, 0.02899709],\n",
       "       [0.02757515, 0.97242485],\n",
       "       [0.04789047, 0.95210953],\n",
       "       [0.94362552, 0.05637448],\n",
       "       [0.09178933, 0.90821067],\n",
       "       [0.90058067, 0.09941933],\n",
       "       [0.98521575, 0.01478425],\n",
       "       [0.02915285, 0.97084715],\n",
       "       [0.32131041, 0.67868959],\n",
       "       [0.81025989, 0.18974011],\n",
       "       [0.99018853, 0.00981147],\n",
       "       [0.63972924, 0.36027076],\n",
       "       [0.46564042, 0.53435958],\n",
       "       [0.99577759, 0.00422241],\n",
       "       [0.1124646 , 0.8875354 ],\n",
       "       [0.93567192, 0.06432808],\n",
       "       [0.16569037, 0.83430963],\n",
       "       [0.01940086, 0.98059914],\n",
       "       [0.69783497, 0.30216503],\n",
       "       [0.98162482, 0.01837518],\n",
       "       [0.58266581, 0.41733419],\n",
       "       [0.69447865, 0.30552135],\n",
       "       [0.90453104, 0.09546896],\n",
       "       [0.99069786, 0.00930214],\n",
       "       [0.03649948, 0.96350052],\n",
       "       [0.03911748, 0.96088252],\n",
       "       [0.97779169, 0.02220831],\n",
       "       [0.12454156, 0.87545844],\n",
       "       [0.55836795, 0.44163205],\n",
       "       [0.22968854, 0.77031146],\n",
       "       [0.15451679, 0.84548321],\n",
       "       [0.96761182, 0.03238818],\n",
       "       [0.3010527 , 0.6989473 ],\n",
       "       [0.32692825, 0.67307175],\n",
       "       [0.33644395, 0.66355605],\n",
       "       [0.8893827 , 0.1106173 ],\n",
       "       [0.37547948, 0.62452052],\n",
       "       [0.99638701, 0.00361299],\n",
       "       [0.94655391, 0.05344609],\n",
       "       [0.26876309, 0.73123691],\n",
       "       [0.03932628, 0.96067372],\n",
       "       [0.1078782 , 0.8921218 ],\n",
       "       [0.34142808, 0.65857192],\n",
       "       [0.30779777, 0.69220223],\n",
       "       [0.18621344, 0.81378656],\n",
       "       [0.5234494 , 0.4765506 ],\n",
       "       [0.99452552, 0.00547448],\n",
       "       [0.54926325, 0.45073675],\n",
       "       [0.96794862, 0.03205138],\n",
       "       [0.03045201, 0.96954799],\n",
       "       [0.99577759, 0.00422241],\n",
       "       [0.97885187, 0.02114813],\n",
       "       [0.19839334, 0.80160666],\n",
       "       [0.99069786, 0.00930214],\n",
       "       [0.16408959, 0.83591041],\n",
       "       [0.99638701, 0.00361299],\n",
       "       [0.94139857, 0.05860143],\n",
       "       [0.15563215, 0.84436785],\n",
       "       [0.02865861, 0.97134139],\n",
       "       [0.2518613 , 0.7481387 ],\n",
       "       [0.81111137, 0.18888863],\n",
       "       [0.20466906, 0.79533094],\n",
       "       [0.02462892, 0.97537108],\n",
       "       [0.94915255, 0.05084745],\n",
       "       [0.34142808, 0.65857192],\n",
       "       [0.98521575, 0.01478425],\n",
       "       [0.7795201 , 0.2204799 ],\n",
       "       [0.16408959, 0.83591041],\n",
       "       [0.02915285, 0.97084715],\n",
       "       [0.19164212, 0.80835788],\n",
       "       [0.94362552, 0.05637448],\n",
       "       [0.04789047, 0.95210953],\n",
       "       [0.70301619, 0.29698381],\n",
       "       [0.05245646, 0.94754354],\n",
       "       [0.97422825, 0.02577175],\n",
       "       [0.19164212, 0.80835788],\n",
       "       [0.5472025 , 0.4527975 ],\n",
       "       [0.43991463, 0.56008537],\n",
       "       [0.44128448, 0.55871552],\n",
       "       [0.20878859, 0.79121141],\n",
       "       [0.37547948, 0.62452052],\n",
       "       [0.84877611, 0.15122389],\n",
       "       [0.16088872, 0.83911128],\n",
       "       [0.36217416, 0.63782584],\n",
       "       [0.64428729, 0.35571271],\n",
       "       [0.42607458, 0.57392542],\n",
       "       [0.2518613 , 0.7481387 ],\n",
       "       [0.90871212, 0.09128788]])"
      ]
     },
     "execution_count": 70,
     "metadata": {},
     "output_type": "execute_result"
    }
   ],
   "source": [
    "lr_y_pre_prob"
   ]
  },
  {
   "cell_type": "code",
   "execution_count": 65,
   "id": "d218e4b5",
   "metadata": {
    "scrolled": true
   },
   "outputs": [
    {
     "data": {
      "text/plain": [
       "(array([84., 17.,  8., 10., 11., 20., 26., 31., 36., 65.]),\n",
       " array([0.00103303, 0.10061417, 0.2001953 , 0.29977644, 0.39935757,\n",
       "        0.49893871, 0.59851984, 0.69810098, 0.79768211, 0.89726325,\n",
       "        0.99684438]),\n",
       " <BarContainer object of 10 artists>)"
      ]
     },
     "execution_count": 65,
     "metadata": {},
     "output_type": "execute_result"
    },
    {
     "data": {
      "image/png": "[encoded data removed]",
      "text/plain": [
       "<Figure size 432x288 with 1 Axes>"
      ]
     },
     "metadata": {
      "needs_background": "light"
     },
     "output_type": "display_data"
    }
   ],
   "source": [
    "plt.hist(lr_y_pre_prob[:,1])"
   ]
  },
  {
   "cell_type": "code",
   "execution_count": 142,
   "id": "a1764eee",
   "metadata": {},
   "outputs": [],
   "source": [
    "y_pred_thresh=binarize(lr_y_pre_prob,threshold=0.65)"
   ]
  },
  {
   "cell_type": "code",
   "execution_count": 143,
   "id": "2acf00c5",
   "metadata": {},
   "outputs": [
    {
     "data": {
      "text/plain": [
       "array([1., 1., 0., 1., 0., 0., 0., 0., 0., 1., 0., 0., 0., 0., 1., 1., 1.,\n",
       "       0., 1., 0., 1., 1., 1., 1., 1., 1., 1., 1., 1., 1., 1., 0., 0., 1.,\n",
       "       0., 0., 0., 0., 1., 1., 1., 1., 1., 1., 1., 1., 1., 1., 0., 1., 0.,\n",
       "       0., 0., 0., 0., 0., 0., 1., 0., 1., 0., 0., 1., 0., 0., 0., 0., 1.,\n",
       "       1., 1., 0., 1., 1., 0., 0., 0., 1., 0., 0., 0., 0., 0., 0., 1., 1.,\n",
       "       0., 1., 0., 1., 0., 0., 0., 1., 0., 1., 0., 0., 0., 1., 1., 1., 1.,\n",
       "       1., 0., 0., 0., 0., 1., 0., 0., 1., 0., 0., 0., 0., 0., 1., 0., 0.,\n",
       "       1., 1., 1., 1., 0., 1., 1., 1., 1., 1., 0., 0., 0., 1., 1., 1., 0.,\n",
       "       0., 1., 0., 1., 0., 0., 0., 0., 0., 1., 1., 0., 1., 0., 1., 1., 1.,\n",
       "       0., 0., 0., 1., 0., 0., 0., 0., 1., 1., 0., 1., 0., 1., 1., 1., 1.,\n",
       "       1., 1., 1., 1., 1., 1., 0., 1., 1., 0., 0., 0., 0., 0., 1., 0., 0.,\n",
       "       0., 0., 0., 0., 1., 1., 1., 0., 1., 0., 1., 0., 0., 1., 1., 1., 0.,\n",
       "       1., 1., 1., 0., 1., 0., 1., 1., 1., 1., 0., 0., 0., 0., 0., 0., 0.,\n",
       "       1., 1., 0., 1., 0., 0., 1., 1., 0., 0., 0., 0., 0., 1., 0., 1., 1.,\n",
       "       0., 0., 0., 0., 0., 0., 1., 1., 0., 1., 0., 1., 1., 0., 1., 1., 1.,\n",
       "       0., 0., 0., 0., 1., 1., 1., 1., 1., 1., 0., 0., 0., 0., 1., 0., 0.,\n",
       "       1., 0., 1., 0., 0., 1., 1., 1., 0., 1., 1., 0., 1., 0., 0., 1., 1.,\n",
       "       1., 0., 1., 0., 1., 0., 1., 0., 0., 0., 1., 0., 0., 1., 0., 0., 0.,\n",
       "       1., 0.])"
      ]
     },
     "execution_count": 143,
     "metadata": {},
     "output_type": "execute_result"
    }
   ],
   "source": [
    "y_thresh=y_pred_thresh[:,1]\n",
    "y_thresh"
   ]
  },
  {
   "cell_type": "code",
   "execution_count": 144,
   "id": "46723132",
   "metadata": {},
   "outputs": [
    {
     "data": {
      "text/plain": [
       "0.8376623376623377"
      ]
     },
     "execution_count": 144,
     "metadata": {},
     "output_type": "execute_result"
    }
   ],
   "source": [
    "accuracy_score(y_test,y_thresh)"
   ]
  },
  {
   "cell_type": "code",
   "execution_count": 109,
   "id": "06807eaa",
   "metadata": {},
   "outputs": [
    {
     "data": {
      "image/png": "[encoded data removed]",
      "text/plain": [
       "<Figure size 432x288 with 1 Axes>"
      ]
     },
     "metadata": {
      "needs_background": "light"
     },
     "output_type": "display_data"
    }
   ],
   "source": [
    "fpr,tpr,threshold=roc_curve(y_test,lr_y_pre_prob[:,1])\n",
    "plt.plot(fpr[,tpr)\n",
    "plt.ylim([0.3,1])\n",
    "plt.xlim([0,0.7])\n",
    "plt.xlabel(\"FPR\")\n",
    "plt.ylabel(\"TPR\")\n",
    "plt.title(\"ROC AUC Curve\")\n",
    "plt.grid(True)"
   ]
  },
  {
   "cell_type": "code",
   "execution_count": 134,
   "id": "76db8e7c",
   "metadata": {},
   "outputs": [
    {
     "data": {
      "text/html": [
       "<div>\n",
       "<style scoped>\n",
       "    .dataframe tbody tr th:only-of-type {\n",
       "        vertical-align: middle;\n",
       "    }\n",
       "\n",
       "    .dataframe tbody tr th {\n",
       "        vertical-align: top;\n",
       "    }\n",
       "\n",
       "    .dataframe thead th {\n",
       "        text-align: right;\n",
       "    }\n",
       "</style>\n",
       "<table border=\"1\" class=\"dataframe\">\n",
       "  <thead>\n",
       "    <tr style=\"text-align: right;\">\n",
       "      <th></th>\n",
       "      <th>fpr</th>\n",
       "      <th>tpr</th>\n",
       "      <th>threshold</th>\n",
       "    </tr>\n",
       "  </thead>\n",
       "  <tbody>\n",
       "    <tr>\n",
       "      <th>0</th>\n",
       "      <td>0.000000</td>\n",
       "      <td>0.000000</td>\n",
       "      <td>1.996844</td>\n",
       "    </tr>\n",
       "    <tr>\n",
       "      <th>1</th>\n",
       "      <td>0.000000</td>\n",
       "      <td>0.006135</td>\n",
       "      <td>0.996844</td>\n",
       "    </tr>\n",
       "    <tr>\n",
       "      <th>2</th>\n",
       "      <td>0.000000</td>\n",
       "      <td>0.018405</td>\n",
       "      <td>0.993067</td>\n",
       "    </tr>\n",
       "    <tr>\n",
       "      <th>3</th>\n",
       "      <td>0.000000</td>\n",
       "      <td>0.030675</td>\n",
       "      <td>0.993045</td>\n",
       "    </tr>\n",
       "    <tr>\n",
       "      <th>4</th>\n",
       "      <td>0.000000</td>\n",
       "      <td>0.042945</td>\n",
       "      <td>0.990399</td>\n",
       "    </tr>\n",
       "    <tr>\n",
       "      <th>...</th>\n",
       "      <td>...</td>\n",
       "      <td>...</td>\n",
       "      <td>...</td>\n",
       "    </tr>\n",
       "    <tr>\n",
       "      <th>135</th>\n",
       "      <td>0.917241</td>\n",
       "      <td>1.000000</td>\n",
       "      <td>0.004222</td>\n",
       "    </tr>\n",
       "    <tr>\n",
       "      <th>136</th>\n",
       "      <td>0.931034</td>\n",
       "      <td>1.000000</td>\n",
       "      <td>0.003899</td>\n",
       "    </tr>\n",
       "    <tr>\n",
       "      <th>137</th>\n",
       "      <td>0.958621</td>\n",
       "      <td>1.000000</td>\n",
       "      <td>0.003110</td>\n",
       "    </tr>\n",
       "    <tr>\n",
       "      <th>138</th>\n",
       "      <td>0.986207</td>\n",
       "      <td>1.000000</td>\n",
       "      <td>0.002671</td>\n",
       "    </tr>\n",
       "    <tr>\n",
       "      <th>139</th>\n",
       "      <td>1.000000</td>\n",
       "      <td>1.000000</td>\n",
       "      <td>0.001033</td>\n",
       "    </tr>\n",
       "  </tbody>\n",
       "</table>\n",
       "<p>140 rows × 3 columns</p>\n",
       "</div>"
      ],
      "text/plain": [
       "          fpr       tpr  threshold\n",
       "0    0.000000  0.000000   1.996844\n",
       "1    0.000000  0.006135   0.996844\n",
       "2    0.000000  0.018405   0.993067\n",
       "3    0.000000  0.030675   0.993045\n",
       "4    0.000000  0.042945   0.990399\n",
       "..        ...       ...        ...\n",
       "135  0.917241  1.000000   0.004222\n",
       "136  0.931034  1.000000   0.003899\n",
       "137  0.958621  1.000000   0.003110\n",
       "138  0.986207  1.000000   0.002671\n",
       "139  1.000000  1.000000   0.001033\n",
       "\n",
       "[140 rows x 3 columns]"
      ]
     },
     "execution_count": 134,
     "metadata": {},
     "output_type": "execute_result"
    }
   ],
   "source": [
    "auc_df=pd.concat([pd.Series(fpr),pd.Series(tpr),pd.Series(threshold)],axis=1)\n",
    "auc_df.columns=['fpr','tpr','threshold']\n",
    "auc_df"
   ]
  },
  {
   "cell_type": "code",
   "execution_count": 114,
   "id": "a83d70c8",
   "metadata": {},
   "outputs": [
    {
     "data": {
      "text/plain": [
       "array([1.99684438e+00, 9.96844382e-01, 9.93067263e-01, 9.93045256e-01,\n",
       "       9.90399191e-01, 9.82729622e-01, 9.75371084e-01, 9.74919061e-01,\n",
       "       9.73134504e-01, 9.72424849e-01, 9.71341391e-01, 9.70847147e-01,\n",
       "       9.69547989e-01, 9.69365817e-01, 9.66493097e-01, 9.60882518e-01,\n",
       "       9.52358119e-01, 9.49142207e-01, 9.48524233e-01, 9.47543545e-01,\n",
       "       9.46944882e-01, 9.44806193e-01, 9.42209260e-01, 9.21822827e-01,\n",
       "       9.15670893e-01, 9.09114378e-01, 9.08210670e-01, 9.01953065e-01,\n",
       "       8.92121799e-01, 8.87535403e-01, 8.82238060e-01, 8.80625679e-01,\n",
       "       8.79526929e-01, 8.52924894e-01, 8.45483210e-01, 8.44367848e-01,\n",
       "       8.35910407e-01, 8.26169697e-01, 8.22515188e-01, 8.20377249e-01,\n",
       "       8.19396443e-01, 8.07593925e-01, 7.79035659e-01, 7.70311459e-01,\n",
       "       7.64676043e-01, 7.62496820e-01, 7.60073592e-01, 7.57730686e-01,\n",
       "       7.57686594e-01, 7.54472345e-01, 7.54388512e-01, 7.48138697e-01,\n",
       "       7.44817019e-01, 7.31236913e-01, 7.24594786e-01, 7.22100154e-01,\n",
       "       7.03103164e-01, 6.98947300e-01, 6.92202226e-01, 6.85918558e-01,\n",
       "       6.80154095e-01, 6.58571918e-01, 6.50608671e-01, 6.47538787e-01,\n",
       "       6.37825841e-01, 6.37680896e-01, 6.31302431e-01, 6.24520517e-01,\n",
       "       6.22781629e-01, 6.10345463e-01, 5.96202271e-01, 5.73925422e-01,\n",
       "       5.67171852e-01, 5.59682123e-01, 5.58715520e-01, 5.54354484e-01,\n",
       "       5.52181020e-01, 5.44453703e-01, 5.35835937e-01, 5.34359578e-01,\n",
       "       5.22489559e-01, 4.93942176e-01, 4.76550603e-01, 4.52797495e-01,\n",
       "       4.50736749e-01, 4.36596550e-01, 4.33922771e-01, 4.17334189e-01,\n",
       "       3.74505546e-01, 3.61618855e-01, 3.55712707e-01, 3.36395123e-01,\n",
       "       3.05521349e-01, 2.96983806e-01, 2.90883371e-01, 2.20479900e-01,\n",
       "       2.05403949e-01, 1.55339399e-01, 1.51223888e-01, 1.50776768e-01,\n",
       "       1.16236676e-01, 1.10617300e-01, 1.04431223e-01, 1.03010834e-01,\n",
       "       9.94193289e-02, 9.54689618e-02, 9.12878802e-02, 8.35646117e-02,\n",
       "       8.31086881e-02, 7.02196755e-02, 5.86014252e-02, 5.63744842e-02,\n",
       "       4.54580710e-02, 3.95641344e-02, 3.37046198e-02, 3.23881793e-02,\n",
       "       3.20513778e-02, 3.18529029e-02, 2.99026619e-02, 2.57717539e-02,\n",
       "       2.22083103e-02, 2.11481276e-02, 2.07030086e-02, 1.87342787e-02,\n",
       "       1.83751850e-02, 1.74245818e-02, 1.15999689e-02, 9.81146795e-03,\n",
       "       9.30213803e-03, 8.33636868e-03, 7.79046597e-03, 7.42780516e-03,\n",
       "       5.66127786e-03, 5.47448233e-03, 4.45102335e-03, 4.22241264e-03,\n",
       "       3.89941037e-03, 3.10994907e-03, 2.67054697e-03, 1.03303256e-03])"
      ]
     },
     "execution_count": 114,
     "metadata": {},
     "output_type": "execute_result"
    }
   ],
   "source": [
    "threshold"
   ]
  },
  {
   "cell_type": "code",
   "execution_count": 147,
   "id": "e1e23ba7",
   "metadata": {},
   "outputs": [
    {
     "data": {
      "text/html": [
       "<div>\n",
       "<style scoped>\n",
       "    .dataframe tbody tr th:only-of-type {\n",
       "        vertical-align: middle;\n",
       "    }\n",
       "\n",
       "    .dataframe tbody tr th {\n",
       "        vertical-align: top;\n",
       "    }\n",
       "\n",
       "    .dataframe thead th {\n",
       "        text-align: right;\n",
       "    }\n",
       "</style>\n",
       "<table border=\"1\" class=\"dataframe\">\n",
       "  <thead>\n",
       "    <tr style=\"text-align: right;\">\n",
       "      <th></th>\n",
       "      <th>fpr</th>\n",
       "      <th>tpr</th>\n",
       "      <th>threshold</th>\n",
       "    </tr>\n",
       "  </thead>\n",
       "  <tbody>\n",
       "    <tr>\n",
       "      <th>18</th>\n",
       "      <td>0.000000</td>\n",
       "      <td>0.306748</td>\n",
       "      <td>0.948524</td>\n",
       "    </tr>\n",
       "    <tr>\n",
       "      <th>19</th>\n",
       "      <td>0.000000</td>\n",
       "      <td>0.319018</td>\n",
       "      <td>0.947544</td>\n",
       "    </tr>\n",
       "    <tr>\n",
       "      <th>20</th>\n",
       "      <td>0.006897</td>\n",
       "      <td>0.319018</td>\n",
       "      <td>0.946945</td>\n",
       "    </tr>\n",
       "    <tr>\n",
       "      <th>21</th>\n",
       "      <td>0.006897</td>\n",
       "      <td>0.325153</td>\n",
       "      <td>0.944806</td>\n",
       "    </tr>\n",
       "    <tr>\n",
       "      <th>22</th>\n",
       "      <td>0.006897</td>\n",
       "      <td>0.337423</td>\n",
       "      <td>0.942209</td>\n",
       "    </tr>\n",
       "    <tr>\n",
       "      <th>...</th>\n",
       "      <td>...</td>\n",
       "      <td>...</td>\n",
       "      <td>...</td>\n",
       "    </tr>\n",
       "    <tr>\n",
       "      <th>135</th>\n",
       "      <td>0.917241</td>\n",
       "      <td>1.000000</td>\n",
       "      <td>0.004222</td>\n",
       "    </tr>\n",
       "    <tr>\n",
       "      <th>136</th>\n",
       "      <td>0.931034</td>\n",
       "      <td>1.000000</td>\n",
       "      <td>0.003899</td>\n",
       "    </tr>\n",
       "    <tr>\n",
       "      <th>137</th>\n",
       "      <td>0.958621</td>\n",
       "      <td>1.000000</td>\n",
       "      <td>0.003110</td>\n",
       "    </tr>\n",
       "    <tr>\n",
       "      <th>138</th>\n",
       "      <td>0.986207</td>\n",
       "      <td>1.000000</td>\n",
       "      <td>0.002671</td>\n",
       "    </tr>\n",
       "    <tr>\n",
       "      <th>139</th>\n",
       "      <td>1.000000</td>\n",
       "      <td>1.000000</td>\n",
       "      <td>0.001033</td>\n",
       "    </tr>\n",
       "  </tbody>\n",
       "</table>\n",
       "<p>122 rows × 3 columns</p>\n",
       "</div>"
      ],
      "text/plain": [
       "          fpr       tpr  threshold\n",
       "18   0.000000  0.306748   0.948524\n",
       "19   0.000000  0.319018   0.947544\n",
       "20   0.006897  0.319018   0.946945\n",
       "21   0.006897  0.325153   0.944806\n",
       "22   0.006897  0.337423   0.942209\n",
       "..        ...       ...        ...\n",
       "135  0.917241  1.000000   0.004222\n",
       "136  0.931034  1.000000   0.003899\n",
       "137  0.958621  1.000000   0.003110\n",
       "138  0.986207  1.000000   0.002671\n",
       "139  1.000000  1.000000   0.001033\n",
       "\n",
       "[122 rows x 3 columns]"
      ]
     },
     "execution_count": 147,
     "metadata": {},
     "output_type": "execute_result"
    }
   ],
   "source": [
    "auc_df[auc_df.tpr> 0.3] "
   ]
  },
  {
   "cell_type": "code",
   "execution_count": null,
   "id": "7c8e1fba",
   "metadata": {},
   "outputs": [],
   "source": []
  }
 ],
 "metadata": {
  "kernelspec": {
   "display_name": "Python 3 (ipykernel)",
   "language": "python",
   "name": "python3"
  },
  "language_info": {
   "codemirror_mode": {
    "name": "ipython",
    "version": 3
   },
   "file_extension": ".py",
   "mimetype": "text/x-python",
   "name": "python",
   "nbconvert_exporter": "python",
   "pygments_lexer": "ipython3",
   "version": "3.9.7"
  }
 },
 "nbformat": 4,
 "nbformat_minor": 5
}
